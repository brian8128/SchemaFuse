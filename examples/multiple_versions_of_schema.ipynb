{
  "cells": [
    {
      "cell_type": "markdown",
      "metadata": {
        "id": "view-in-github",
        "colab_type": "text"
      },
      "source": [
        "<a href=\"https://colab.research.google.com/github/brian8128/SchemaFuse/blob/main/examples/example.ipynb\" target=\"_parent\"><img src=\"https://colab.research.google.com/assets/colab-badge.svg\" alt=\"Open In Colab\"/></a>"
      ]
    },
    {
      "cell_type": "code",
      "execution_count": null,
      "metadata": {
        "id": "tHg4TQCRDGUx"
      },
      "outputs": [],
      "source": [
        "# import some dependencies\n",
        "import torchvision\n",
        "import torch\n",
        "import torchvision.transforms as transforms\n",
        "import numpy as np\n",
        "import matplotlib.pyplot as plt\n",
        "\n",
        "import torch.optim as optim\n",
        "from torch.utils.data import Dataset\n",
        "from torch.utils.data import DataLoader\n",
        "import time\n",
        "import torch.nn as nn\n",
        "import torch.nn.functional as F\n",
        "torch.set_printoptions(linewidth=120)\n",
        "\n",
        "import random\n",
        "from sklearn.metrics import confusion_matrix\n"
      ]
    },
    {
      "cell_type": "markdown",
      "metadata": {
        "id": "mdhmzsndifH8"
      },
      "source": [
        "# TODOs:\n",
        "* Make a writeup about what we're doing\n",
        "* Use Cases:\n",
        "  * Adding one more class at the last minute. Say for example that sneaker and ankle boot were considered as one class, closed toe shoe, but we want to split them at the last minute. We only have time to label a handful of examples for this class but we have a lot of \"closed toe shoe\" examples.\n",
        "  * Merging two customer datasets. Each customer has a \"background\" class and a few foreground classes. We're going to merge these two datasets to train a single model.\n",
        "  * Why doesn't it work as well to just stick the same information into torches native cross entropy loss function? After all it supports a vector of labels natively which is typically used for label smoothing. In native torch The log function is computed before rather than after the sum. I conjecture that this will lead to wanting a positive probability for ALL of the labeled classes rather than just one of them. However, in this work there is one correct class label per image and we would like most of the probability assigned to that correct label, we just don't always know which it is."
      ]
    },
    {
      "cell_type": "markdown",
      "metadata": {
        "id": "_4IMXlRYEh5W"
      },
      "source": [
        "# Multiple Choice Cross Entropy With Fashion MNIST\n",
        "\n",
        "Train a network for fashion mnist. Then make the labels noisier. Instead of knowing the exact class label, we know that it's one of two. Or one of nine. See if we can get the network to work well even with this restriction.\n"
      ]
    },
    {
      "cell_type": "markdown",
      "metadata": {
        "id": "ZXXPxpODFbmY"
      },
      "source": [
        "## Standard Fashion MNIST\n",
        "\n",
        "Train a normal fashion MNIST model as a baseline."
      ]
    },
    {
      "cell_type": "code",
      "execution_count": null,
      "metadata": {
        "id": "nGcbnQ61OavR"
      },
      "outputs": [],
      "source": [
        "from torch.utils.data.dataloader import default_collate\n"
      ]
    },
    {
      "cell_type": "code",
      "execution_count": null,
      "metadata": {
        "id": "gwTKWjz_DV_B"
      },
      "outputs": [],
      "source": [
        "train_set = torchvision.datasets.FashionMNIST(root=\"./\", download=True,\n",
        "                                              train=True,\n",
        "                                              transform=transforms.Compose([transforms.ToTensor()]))\n",
        "\n",
        "test_set = torchvision.datasets.FashionMNIST(root=\"./\", download=True,\n",
        "                                              train=False,\n",
        "                                              transform=transforms.Compose([transforms.ToTensor()]))"
      ]
    },
    {
      "cell_type": "code",
      "execution_count": null,
      "metadata": {
        "id": "UD4sH4lyDbMz"
      },
      "outputs": [],
      "source": [
        "data_loader = torch.utils.data.DataLoader(train_set, batch_size=10, shuffle=True)\n",
        "sample = next(iter(data_loader))\n",
        "\n",
        "imgs, lbls = sample"
      ]
    },
    {
      "cell_type": "code",
      "execution_count": null,
      "metadata": {
        "colab": {
          "base_uri": "https://localhost:8080/",
          "height": 223
        },
        "id": "QxGlUW8sDll1",
        "outputId": "d21d5463-b50a-4893-a6c6-958f3ccf26a8"
      },
      "outputs": [
        {
          "output_type": "stream",
          "name": "stdout",
          "text": [
            "image tensor: torch.Size([10, 1, 28, 28])\n",
            "class labels: tensor([8, 4, 0, 3, 3, 9, 2, 4, 8, 1])\n"
          ]
        },
        {
          "output_type": "display_data",
          "data": {
            "text/plain": [
              "<Figure size 1500x1000 with 1 Axes>"
            ],
            "image/png": "[encoded data removed]"
          },
          "metadata": {}
        }
      ],
      "source": [
        "# create a grid\n",
        "plt.figure(figsize=(15,10))\n",
        "grid = torchvision.utils.make_grid(nrow=20, tensor=imgs)\n",
        "print(f\"image tensor: {imgs.shape}\")\n",
        "print(f\"class labels: {lbls}\")\n",
        "plt.imshow(np.transpose(grid, axes=(1,2,0)), cmap='gray');"
      ]
    },
    {
      "cell_type": "code",
      "execution_count": null,
      "metadata": {
        "id": "MqeoLqVIDoC6"
      },
      "outputs": [],
      "source": [
        "# define some helper functions\n",
        "def get_item(preds, labels):\n",
        "    \"\"\"function that returns the accuracy of our architecture\"\"\"\n",
        "    return preds.argmax(dim=1).eq(labels).sum().item()\n",
        "\n",
        "@torch.no_grad() # turn off gradients during inference for memory effieciency\n",
        "def get_all_preds(network, dataloader):\n",
        "    \"\"\"function to return the number of correct predictions across data set\"\"\"\n",
        "    all_preds = torch.tensor([])\n",
        "    model = network\n",
        "    for batch in dataloader:\n",
        "        images, labels = batch\n",
        "        preds = model(images) # get preds\n",
        "        all_preds = torch.cat((all_preds, preds), dim=0) # join along existing axis\n",
        "\n",
        "    return all_preds\n",
        "\n",
        "\n",
        "def plot_confusion_matrix(cm,\n",
        "                          target_names,\n",
        "                          title='Confusion matrix',\n",
        "                          cmap=None,\n",
        "                          normalize=True):\n",
        "    \"\"\"\n",
        "    given a sklearn confusion matrix (cm), make a nice plot\n",
        "\n",
        "    Arguments\n",
        "    ---------\n",
        "    cm:           confusion matrix from sklearn.metrics.confusion_matrix\n",
        "\n",
        "    target_names: given classification classes such as [0, 1, 2]\n",
        "                  the class names, for example: ['high', 'medium', 'low']\n",
        "\n",
        "    title:        the text to display at the top of the matrix\n",
        "\n",
        "    cmap:         the gradient of the values displayed from matplotlib.pyplot.cm\n",
        "                  see http://matplotlib.org/examples/color/colormaps_reference.html\n",
        "                  plt.get_cmap('jet') or plt.cm.Blues\n",
        "\n",
        "    normalize:    If False, plot the raw numbers\n",
        "                  If True, plot the proportions\n",
        "\n",
        "    Usage\n",
        "    -----\n",
        "    plot_confusion_matrix(cm           = cm,                  # confusion matrix created by\n",
        "                                                              # sklearn.metrics.confusion_matrix\n",
        "                          normalize    = True,                # show proportions\n",
        "                          target_names = y_labels_vals,       # list of names of the classes\n",
        "                          title        = best_estimator_name) # title of graph\n",
        "\n",
        "    Citiation\n",
        "    ---------\n",
        "    http://scikit-learn.org/stable/auto_examples/model_selection/plot_confusion_matrix.html\n",
        "\n",
        "    \"\"\"\n",
        "    import matplotlib.pyplot as plt\n",
        "    import numpy as np\n",
        "    import itertools\n",
        "\n",
        "    accuracy = np.trace(cm) / np.sum(cm).astype('float')\n",
        "    misclass = 1 - accuracy\n",
        "\n",
        "    if cmap is None:\n",
        "        cmap = plt.get_cmap('Blues')\n",
        "\n",
        "    plt.figure(figsize=(15, 10))\n",
        "    plt.imshow(cm, interpolation='nearest', cmap=cmap)\n",
        "    plt.title(title)\n",
        "    plt.colorbar()\n",
        "\n",
        "    if target_names is not None:\n",
        "        tick_marks = np.arange(len(target_names))\n",
        "        plt.xticks(tick_marks, target_names, rotation=45)\n",
        "        plt.yticks(tick_marks, target_names)\n",
        "\n",
        "    if normalize:\n",
        "        cm = cm.astype('float') / cm.sum(axis=1)[:, np.newaxis]\n",
        "\n",
        "\n",
        "    thresh = cm.max() / 1.5 if normalize else cm.max() / 2\n",
        "    for i, j in itertools.product(range(cm.shape[0]), range(cm.shape[1])):\n",
        "        if normalize:\n",
        "            plt.text(j, i, \"{:0.4f}\".format(cm[i, j]),\n",
        "                     horizontalalignment=\"center\",\n",
        "                     color=\"white\" if cm[i, j] > thresh else \"black\")\n",
        "        else:\n",
        "            plt.text(j, i, \"{:,}\".format(cm[i, j]),\n",
        "                     horizontalalignment=\"center\",\n",
        "                     color=\"white\" if cm[i, j] > thresh else \"black\")\n",
        "\n",
        "\n",
        "    plt.tight_layout()\n",
        "    plt.ylabel('True label')\n",
        "    plt.xlabel('Predicted label\\naccuracy={:0.4f}; misclass={:0.4f}'.format(accuracy, misclass))\n",
        "    plt.show()\n"
      ]
    },
    {
      "cell_type": "code",
      "execution_count": null,
      "metadata": {
        "id": "8v6QRBEjDpzK"
      },
      "outputs": [],
      "source": [
        "# define network\n",
        "\n",
        "class Network(nn.Module): # extend nn.Module class of nn\n",
        "    def __init__(self):\n",
        "        super().__init__() # super class constructor\n",
        "        self.conv1 = nn.Conv2d(in_channels=1, out_channels=6, kernel_size=(5,5))\n",
        "        self.batchN1 = nn.BatchNorm2d(num_features=6)\n",
        "        self.conv2 = nn.Conv2d(in_channels=6, out_channels=12, kernel_size=(5,5))\n",
        "        self.fc1 = nn.Linear(in_features=12*4*4, out_features=120)\n",
        "        self.batchN2 = nn.BatchNorm1d(num_features=120)\n",
        "        self.fc2 = nn.Linear(in_features=120, out_features=60)\n",
        "        self.out = nn.Linear(in_features=60, out_features=10)\n",
        "\n",
        "    def forward(self, t): # implements the forward method (flow of tensors)\n",
        "\n",
        "        # hidden conv layer\n",
        "        t = self.conv1(t)\n",
        "        t = F.max_pool2d(input=t, kernel_size=2, stride=2)\n",
        "        t = F.relu(t)\n",
        "        t = self.batchN1(t)\n",
        "\n",
        "        # hidden conv layer\n",
        "        t = self.conv2(t)\n",
        "        t = F.max_pool2d(input=t, kernel_size=2, stride=2)\n",
        "        t = F.relu(t)\n",
        "\n",
        "        # flatten\n",
        "        t = t.reshape(-1, 12*4*4)\n",
        "        t = self.fc1(t)\n",
        "        t = F.relu(t)\n",
        "        t = self.batchN2(t)\n",
        "        t = self.fc2(t)\n",
        "        t = F.relu(t)\n",
        "\n",
        "        # output\n",
        "        t = self.out(t)\n",
        "\n",
        "        return t"
      ]
    },
    {
      "cell_type": "code",
      "execution_count": null,
      "metadata": {
        "colab": {
          "base_uri": "https://localhost:8080/"
        },
        "id": "u8gmmQT_D6n9",
        "outputId": "38d0f185-0632-4f4d-81ce-f6744ccae4e9"
      },
      "outputs": [
        {
          "output_type": "stream",
          "name": "stdout",
          "text": [
            "Network(\n",
            "  (conv1): Conv2d(1, 6, kernel_size=(5, 5), stride=(1, 1))\n",
            "  (batchN1): BatchNorm2d(6, eps=1e-05, momentum=0.1, affine=True, track_running_stats=True)\n",
            "  (conv2): Conv2d(6, 12, kernel_size=(5, 5), stride=(1, 1))\n",
            "  (fc1): Linear(in_features=192, out_features=120, bias=True)\n",
            "  (batchN2): BatchNorm1d(120, eps=1e-05, momentum=0.1, affine=True, track_running_stats=True)\n",
            "  (fc2): Linear(in_features=120, out_features=60, bias=True)\n",
            "  (out): Linear(in_features=60, out_features=10, bias=True)\n",
            ")\n"
          ]
        }
      ],
      "source": [
        "cnn_model = Network().cuda() # init model\n",
        "print(cnn_model) # print model structure"
      ]
    },
    {
      "cell_type": "code",
      "execution_count": null,
      "metadata": {
        "id": "odbOaO9-D8cR"
      },
      "outputs": [],
      "source": [
        "# let's also normalize the data for faster convergence\n",
        "\n",
        "# import data\n",
        "mean = 0.2859;  std = 0.3530 # calculated using standization from the MNIST itself which we skip in this blog\n",
        "train_set = torchvision.datasets.FashionMNIST(root=\"./\", download=True,\n",
        "                                              transform=transforms.Compose([transforms.ToTensor(),\n",
        "                                                                            transforms.Normalize(mean, std)\n",
        "                                                                           ]))\n",
        "data_loader = torch.utils.data.DataLoader(train_set, batch_size=100, shuffle=True, num_workers=1)"
      ]
    },
    {
      "cell_type": "code",
      "source": [
        "train_set"
      ],
      "metadata": {
        "colab": {
          "base_uri": "https://localhost:8080/"
        },
        "id": "5VCnSlI88ph9",
        "outputId": "5693aa5e-1048-4438-f99e-9e56ceaf25f3"
      },
      "execution_count": null,
      "outputs": [
        {
          "output_type": "execute_result",
          "data": {
            "text/plain": [
              "Dataset FashionMNIST\n",
              "    Number of datapoints: 60000\n",
              "    Root location: ./\n",
              "    Split: Train\n",
              "    StandardTransform\n",
              "Transform: Compose(\n",
              "               ToTensor()\n",
              "               Normalize(mean=0.2859, std=0.353)\n",
              "           )"
            ]
          },
          "metadata": {},
          "execution_count": 102
        }
      ]
    },
    {
      "cell_type": "code",
      "execution_count": null,
      "metadata": {
        "colab": {
          "base_uri": "https://localhost:8080/"
        },
        "id": "CRSyHdUrEC-l",
        "outputId": "48d6ebba-7ab7-408d-a794-e8d06ea19f9b"
      },
      "outputs": [
        {
          "output_type": "stream",
          "name": "stdout",
          "text": [
            "Epoch no. 1 |accuracy:  82.8 % |total_loss:  278.1558710038662 | epoch_duration:  16.29 sec\n",
            "Epoch no. 2 |accuracy:  87.3 % |total_loss:  206.40307915955782 | epoch_duration:  15.56 sec\n",
            "Epoch no. 3 |accuracy:  88.4 % |total_loss:  187.1496308296919 | epoch_duration:  15.58 sec\n",
            "Epoch no. 4 |accuracy:  88.9 % |total_loss:  179.9171510860324 | epoch_duration:  16.25 sec\n",
            "Epoch no. 5 |accuracy:  89.5 % |total_loss:  169.2285431176424 | epoch_duration:  15.55 sec\n"
          ]
        }
      ],
      "source": [
        "optimizer = optim.Adam(lr=0.01, params=cnn_model.parameters())\n",
        "# def train loop\n",
        "\n",
        "for epoch in range(5):\n",
        "    start_time = time.time()\n",
        "    total_correct = 0\n",
        "    total_loss = 0\n",
        "    for batch in data_loader:\n",
        "        imgs, lbls = batch\n",
        "        imgs = imgs.cuda()\n",
        "        lbls = lbls.cuda()\n",
        "        preds = cnn_model(imgs) # get preds\n",
        "        loss = F.cross_entropy(preds, lbls) # compute loss\n",
        "        optimizer.zero_grad() # zero grads\n",
        "        loss.backward() # calculates gradients\n",
        "        optimizer.step() # update the weights\n",
        "\n",
        "        total_loss += loss.item()\n",
        "        total_correct += get_item(preds, lbls)\n",
        "        accuracy = total_correct/len(train_set)\n",
        "    end_time = time.time() - start_time\n",
        "    print(\"Epoch no.\",epoch+1 ,\"|accuracy: \", round(accuracy, 3)*100,\"%\", \"|total_loss: \", total_loss, \"| epoch_duration: \", round(end_time,2),\"sec\")"
      ]
    },
    {
      "cell_type": "code",
      "execution_count": null,
      "metadata": {
        "id": "ULFPyhSsEFmO"
      },
      "outputs": [],
      "source": [
        "# get all preds\n",
        "pred_data_loader = torch.utils.data.DataLoader(batch_size=10000, dataset=train_set, num_workers=1)\n",
        "all_preds= get_all_preds(network=cnn_model.cpu(), dataloader=pred_data_loader)"
      ]
    },
    {
      "cell_type": "code",
      "execution_count": null,
      "metadata": {
        "id": "WilO4UJoP1Uh"
      },
      "outputs": [],
      "source": []
    },
    {
      "cell_type": "code",
      "execution_count": null,
      "metadata": {
        "colab": {
          "base_uri": "https://localhost:8080/",
          "height": 1000
        },
        "id": "UOcgy70ON8vI",
        "outputId": "0d64001b-d14c-4cfd-d169-48973d00fd35"
      },
      "outputs": [
        {
          "output_type": "display_data",
          "data": {
            "text/plain": [
              "<Figure size 1500x1000 with 2 Axes>"
            ],
            "image/png": "[encoded data removed]"
          },
          "metadata": {}
        }
      ],
      "source": [
        "plot_confusion_matrix(cm=confusion_matrix(y_true=train_set.targets, y_pred=all_preds.argmax(1)),\n",
        "                      target_names=train_set.classes, normalize=False)\n"
      ]
    },
    {
      "cell_type": "markdown",
      "metadata": {
        "id": "gXMsHVmHFkkY"
      },
      "source": [
        "## Weaken the Labels\n",
        "\n",
        "Let's pick two classes, i and j, and change 90% of the i labels into either i or j. Can we use this data to train a model that is better than the one we get if we simply discard the ambigious labels?"
      ]
    },
    {
      "cell_type": "code",
      "execution_count": null,
      "metadata": {
        "id": "Rv-SzKhEGqPA"
      },
      "outputs": [],
      "source": [
        "i = 0\n",
        "j = 1\n",
        "\n",
        "frac_labeled = 0.1"
      ]
    },
    {
      "cell_type": "code",
      "execution_count": null,
      "metadata": {
        "id": "dt49qHB0MjoF"
      },
      "outputs": [],
      "source": [
        "def multiple_choice_cross_entropy(preds, labels):\n",
        "  \"\"\"\n",
        "  A replacement for torch.nn.functional.cross_entropy_loss where the labels can\n",
        "  contain more than one possibly correct answer. These labels are combined with\n",
        "  a logical OR instead of a logical AND so either answer is regarded as correct\n",
        "  even if zero probability is assigned to the/an other possible correct answer.\n",
        "\n",
        "  preds - The same as in F.cross_entropy_loss\n",
        "  \"\"\"\n",
        "  num = -torch.log(torch.sum(torch.exp(preds) * labels, axis=1))\n",
        "  denom = torch.log(torch.sum(torch.exp(preds), axis=1))\n",
        "  losses = num + denom\n",
        "  return torch.mean(losses)"
      ]
    },
    {
      "cell_type": "code",
      "execution_count": null,
      "metadata": {
        "colab": {
          "base_uri": "https://localhost:8080/"
        },
        "id": "weHN3wIZSinL",
        "outputId": "f73335c3-32bf-4526-a23f-fb006bc84871"
      },
      "outputs": [
        {
          "output_type": "execute_result",
          "data": {
            "text/plain": [
              "tensor([False,  True,  True,  ..., False,  True, False])"
            ]
          },
          "metadata": {},
          "execution_count": 108
        }
      ],
      "source": [
        "i_labels_to_make_ambiguous = (train_set.targets == i) * (torch.rand(train_set.targets.size()) < 0.9)\n",
        "                             # everything annotated with i        # randomly select 90% of them\n",
        "i_labels_to_make_ambiguous"
      ]
    },
    {
      "cell_type": "code",
      "execution_count": null,
      "metadata": {
        "id": "-C6hCLVJ5nvQ"
      },
      "outputs": [],
      "source": []
    },
    {
      "cell_type": "code",
      "execution_count": null,
      "metadata": {
        "id": "HAWC6Dwx56QH",
        "colab": {
          "base_uri": "https://localhost:8080/"
        },
        "outputId": "9e20be2f-4d97-45e3-874b-2388ade57eb5"
      },
      "outputs": [
        {
          "output_type": "execute_result",
          "data": {
            "text/plain": [
              "Dataset FashionMNIST\n",
              "    Number of datapoints: 60000\n",
              "    Root location: ./\n",
              "    Split: Train\n",
              "    StandardTransform\n",
              "Transform: Compose(\n",
              "               ToTensor()\n",
              "               Normalize(mean=0.2859, std=0.353)\n",
              "           )"
            ]
          },
          "metadata": {},
          "execution_count": 109
        }
      ],
      "source": [
        "train_set"
      ]
    },
    {
      "cell_type": "code",
      "execution_count": null,
      "metadata": {
        "id": "hwJqsjKpTvLJ"
      },
      "outputs": [],
      "source": [
        "class CustomImageDataset(Dataset):\n",
        "    \"\"\"\n",
        "    Create a custom wrapper around the dataset because we want our labels\n",
        "    to be a vector instead of a single integer\n",
        "    \"\"\"\n",
        "    # TODO: replace this with at target_transform in the normal torchvision\n",
        "    # fashion MNist dataset so we don't have to do our own custom one.\n",
        "    # https://pytorch.org/vision/stable/generated/torchvision.datasets.FashionMNIST.html\n",
        "    #\n",
        "    def __init__(self, train_set, labels):\n",
        "        self.inner_train_set = train_set\n",
        "        self.labels = labels\n",
        "\n",
        "    def __len__(self):\n",
        "        return len(self.labels)\n",
        "\n",
        "    def __getitem__(self, idx):\n",
        "        return self.inner_train_set[idx][0], self.labels[idx]\n",
        "\n",
        "one_hot_labels = torch.nn.functional.one_hot(train_set.targets, num_classes=-1).to(torch.float)\n",
        "one_hot_labels[:, j] += i_labels_to_make_ambiguous\n",
        "\n",
        "train_data = CustomImageDataset(train_set, one_hot_labels)\n",
        "train_loader = DataLoader(train_data, batch_size=100, shuffle=True)"
      ]
    },
    {
      "cell_type": "code",
      "execution_count": null,
      "metadata": {
        "id": "bT3KhGXYz5v_"
      },
      "outputs": [],
      "source": [
        "def train_model(train_dataset, cross_entropy_loss_fn=\"native_pytorch\", epochs=5):\n",
        "  assert cross_entropy_loss_fn in (\"native_pytorch\", \"multiple_choice_cel\")\n",
        "  if cross_entropy_loss_fn == \"native_pytorch\":\n",
        "    cross_entropy_loss_fn = F.cross_entropy\n",
        "  elif cross_entropy_loss_fn == \"multiple_choice_cel\":\n",
        "    cross_entropy_loss_fn = multiple_choice_cross_entropy\n",
        "  else:\n",
        "    raise\n",
        "\n",
        "  train_loader = DataLoader(train_dataset, batch_size=100, shuffle=True)\n",
        "\n",
        "  cnn_model = Network().cuda() # init model\n",
        "  optimizer = optim.Adam(lr=0.01, params=cnn_model.parameters())\n",
        "\n",
        "  for epoch in range(epochs):\n",
        "      start_time = time.time()\n",
        "      total_correct = 0\n",
        "      total_loss = 0\n",
        "      for batch in train_loader:\n",
        "          imgs, lbls = batch\n",
        "          imgs = imgs.cuda()\n",
        "          lbls = lbls.cuda()\n",
        "          preds = cnn_model(imgs) # get preds\n",
        "          loss = cross_entropy_loss_fn(preds, lbls) # compute loss\n",
        "          optimizer.zero_grad() # zero grads\n",
        "          loss.backward() # calculates gradients\n",
        "          optimizer.step() # update the weights\n",
        "\n",
        "          # TODO: Implement accuracy the same way as we do in the loss.\n",
        "          # the label is A OR B, so if the model predicts either A OR B\n",
        "          # then we consider that example correctly labeled.\n",
        "      end_time = time.time() - start_time\n",
        "      print(\"Epoch no.\",epoch+1 ,\"| epoch_duration: \", round(end_time,2),\"sec\")\n",
        "\n",
        "  return cnn_model"
      ]
    },
    {
      "cell_type": "code",
      "source": [
        "cnn_model = train_model(train_data, cross_entropy_loss_fn=\"multiple_choice_cel\")\n",
        "\n",
        "# get all preds\n",
        "pred_data_loader = torch.utils.data.DataLoader(batch_size=10000, dataset=train_set, num_workers=1)\n",
        "all_preds= get_all_preds(network=cnn_model.cpu(), dataloader=pred_data_loader)"
      ],
      "metadata": {
        "colab": {
          "base_uri": "https://localhost:8080/"
        },
        "id": "Vn2M1BkRzWRn",
        "outputId": "d00aecf6-0047-4a74-bd74-24dc0097a753"
      },
      "execution_count": null,
      "outputs": [
        {
          "output_type": "stream",
          "name": "stdout",
          "text": [
            "Epoch no. 1 | epoch_duration:  16.31 sec\n",
            "Epoch no. 2 | epoch_duration:  20.63 sec\n",
            "Epoch no. 3 | epoch_duration:  20.94 sec\n",
            "Epoch no. 4 | epoch_duration:  14.4 sec\n",
            "Epoch no. 5 | epoch_duration:  14.56 sec\n"
          ]
        }
      ]
    },
    {
      "cell_type": "code",
      "execution_count": null,
      "metadata": {
        "id": "yIVGx7tgS0BG"
      },
      "outputs": [],
      "source": [
        "plot_confusion_matrix(cm=confusion_matrix(y_true=train_set.targets, y_pred=all_preds.argmax(1)), target_names=train_set.classes, normalize=False)\n"
      ]
    },
    {
      "cell_type": "markdown",
      "metadata": {
        "id": "Ffk54SRrvqDD"
      },
      "source": [
        "# Use Case: Merging Datasets\n",
        "\n",
        "Suppose that you have two customer datasets from different customers with similar goals. They both want to identify certain objects in the images and they both have a \"background\" class to cover everything they don't care about identifying.\n",
        "\n",
        "Customer 1 has annotated 'T-shirt/top', 'Trouser', 'Pullover', and 'Dress' and has labeled everything else as 'background'.\n",
        "\n",
        "Customer 2 has annotated 'Pullover', 'Dress', 'Coat', and 'Sandal' and has labeled everything else as background.\n",
        "\n",
        "We want to train a model that can predict all 6 classes, 'T-shirt/top', 'Trouser', 'Pullover', 'Dress', 'Coat', and 'Sandal', as well as a 'background' class. However, we will have to be a bit clever with training. For the non-background images we can train as usual. However, Customer 1's background images include the 'Coat' and 'Sandal' classes. Therefore we will train the model that these images are 'Background' OR 'Coat' OR 'Sandal'. Similarily we will train the model that Customer 2's background images are 'Background' OR 'T-shirt/top' OR 'Trouser'.\n",
        "\n",
        "As we know from probability theory P(A OR B) = P(A) + P(B) - P(A AND B). In our model class labels are non-overlapping so P(A AND B) = 0.\n",
        "\n",
        "Let's give Customer 1 80% of the data to simulate some real world messiness.\n",
        "\n",
        "We'll train 3 models and compare the results. Customer 1's model, Customer 2's model, and the joint model using this logical OR style training."
      ]
    },
    {
      "cell_type": "markdown",
      "metadata": {
        "id": "YnmhFDl20zQV"
      },
      "source": [
        "## Create Datasets\n",
        "\n"
      ]
    },
    {
      "cell_type": "code",
      "execution_count": null,
      "metadata": {
        "id": "HnTq1eJo0zYd"
      },
      "outputs": [],
      "source": [
        "from torch.utils.data import random_split\n"
      ]
    },
    {
      "cell_type": "code",
      "source": [
        "random_split(train_set, lengths=[0.8, 0.2])"
      ],
      "metadata": {
        "colab": {
          "base_uri": "https://localhost:8080/"
        },
        "id": "hTR5FsaG-zy6",
        "outputId": "44e06596-62f0-4b66-9f5b-f7a81895a5e8"
      },
      "execution_count": null,
      "outputs": [
        {
          "output_type": "execute_result",
          "data": {
            "text/plain": [
              "[<torch.utils.data.dataset.Subset at 0x7922646c54b0>,\n",
              " <torch.utils.data.dataset.Subset at 0x7922646c5b40>]"
            ]
          },
          "metadata": {},
          "execution_count": 119
        }
      ]
    },
    {
      "cell_type": "code",
      "execution_count": null,
      "metadata": {
        "id": "AMi17beP2bwR"
      },
      "outputs": [],
      "source": [
        "classes_c1 = [\"Background\"] + train_set.classes[:4]\n",
        "print(\"Customer 1 class labels: \" + str(classes_c1))\n",
        "\n",
        "classes_c2 = [\"Background\"] + train_set.classes[2:6]\n",
        "print(\"Customer 2 class labels: \" + str(classes_c2))\n",
        "\n",
        "# By default the train test split does an 80/20 split giving us our \"messy\" unequal distribution\n",
        "\n",
        "train_data_c1, train_data_c2, train_targets_c1, train_targets_c2 = train_test_split(train_set.data, train_set.targets)\n",
        "\n",
        "# Customer 1 has classes 0-4 as the labeled classes and classes 4-10 are background\n",
        "# We're going to make background class 0\n",
        "def make_c1_targets(targets):\n",
        "  \"\"\"\n",
        "  Take as inputs the targets from normal fashion mnist and create targets\n",
        "  labeled the way customer 1 labels them\n",
        "  \"\"\"\n",
        "  targets_c1 = targets.clone()\n",
        "  targets_c1 += 1\n",
        "  targets_c1[targets_c1 > 4] = 0\n",
        "  return targets_c1\n",
        "\n",
        "# Customer 2 has classes 2-6 as their labeled classes with classes, 0, 1, and 6+ background\n",
        "# They label background as class 0 and classes 2-6 as classes 1-5\n",
        "def make_c2_targets(targets):\n",
        "  \"\"\"\n",
        "  Take as inputs the targets from normal fashion mnist and create targets\n",
        "  labeled the way customer 1 labels them\n",
        "  \"\"\"\n",
        "  targets_c2 = targets.clone()\n",
        "  targets_c2 -= 1\n",
        "  targets_c2[(targets_c2 < 0) | (4 < targets_c2)] = 0\n",
        "  return targets_c2\n",
        "\n",
        "train_targets_c1_processed = make_c1_targets(train_targets_c1)\n",
        "train_targets_c2_processed = make_c2_targets(train_targets_c2)\n",
        "\n",
        "# For simplicity, customer 1 and customer 2 will have the same test data,\n",
        "# but with their own labels.\n",
        "\n",
        "test_data_c1 = test_data_c2 = test_set.data\n",
        "test_targets_c1 = test_targets_c2 = test_set.targets\n",
        "\n",
        "test_targets_c1_processed = make_c1_targets(test_targets_c1)\n",
        "test_targets_c2_processed = make_c2_targets(test_targets_c2)"
      ]
    },
    {
      "cell_type": "code",
      "execution_count": null,
      "metadata": {
        "id": "D8kqi3B71V60"
      },
      "outputs": [],
      "source": [
        "train_targets_c1_one_hot = torch.nn.functional.one_hot(test_targets_c1_processed, num_classes=-1)\n",
        "train_targets_c2_one_hot = torch.nn.functional.one_hot(test_targets_c1_processed, num_classes=-1)\n",
        "\n",
        "train_dataset_c1 = CustomImageDataset(train_data_c1, train_targets_c1_one_hot.to(torch.float))\n",
        "train_dataset_c2 = CustomImageDataset(train_data_c2, train_targets_c2_one_hot.to(torch.float))"
      ]
    },
    {
      "cell_type": "markdown",
      "metadata": {
        "id": "WuuCp4tozRK4"
      },
      "source": [
        "## Customer 1 Model"
      ]
    },
    {
      "cell_type": "code",
      "execution_count": null,
      "metadata": {
        "id": "qKn3JF1v0Zwk"
      },
      "outputs": [],
      "source": [
        "cnn_model = train_model(train_dataset_c1, cross_entropy_loss_fn=\"multiple_choice_cel\")\n",
        "\n",
        "# get all preds\n",
        "c1_pred_data_loader = torch.utils.data.DataLoader(batch_size=10000, dataset=train_set, num_workers=1)\n",
        "all_preds= get_all_preds(network=cnn_model.cpu(), dataloader=pred_data_loader)"
      ]
    },
    {
      "cell_type": "code",
      "execution_count": null,
      "metadata": {
        "id": "uk2tShJ50NLE"
      },
      "outputs": [],
      "source": [
        "len(data_a), len(data_b)"
      ]
    },
    {
      "cell_type": "code",
      "execution_count": null,
      "metadata": {
        "id": "imw63Vyu0RfI"
      },
      "outputs": [],
      "source": [
        "train_set.data"
      ]
    },
    {
      "cell_type": "markdown",
      "metadata": {
        "id": "zFqoYW9nQ3C9"
      },
      "source": [
        "## Weakest Possible Labels: One Class It's Not\n",
        "\n",
        "Let's train the model on the weakest possible labels. Instead of telling the model one class that is correct let's tell the model one class that's not correct."
      ]
    },
    {
      "cell_type": "code",
      "execution_count": null,
      "metadata": {
        "id": "tHYYClaM6Frf"
      },
      "outputs": [],
      "source": [
        "random_labels = torch.randint(low=0, high=9, size=train_set.targets.size())\n",
        "random_labels += random_labels >= train_set.targets\n",
        "# Now we know that random labels are not equal to train_set.targets but otherwise\n",
        "# uniformly distributed."
      ]
    },
    {
      "cell_type": "code",
      "execution_count": null,
      "metadata": {
        "id": "h0lYK7EIR5Vc"
      },
      "outputs": [],
      "source": [
        "one_hot_labels = (1 - torch.nn.functional.one_hot(random_labels, num_classes=-1)).cuda()\n",
        "one_hot_labels"
      ]
    },
    {
      "cell_type": "code",
      "execution_count": null,
      "metadata": {
        "id": "XFAoEy6LTDOt"
      },
      "outputs": [],
      "source": [
        "train_data = CustomImageDataset(train_set, one_hot_labels)\n",
        "train_loader = DataLoader(train_data, batch_size=128, shuffle=True)\n",
        "\n",
        "cnn_model = Network().cuda() # init model\n",
        "\n",
        "optimizer = optim.Adam(lr=0.001, params=cnn_model.parameters())\n",
        "\n",
        "for epoch in range(5):\n",
        "    start_time = time.time()\n",
        "    total_correct = 0\n",
        "    total_loss = 0\n",
        "    for batch in train_loader:\n",
        "        imgs, lbls = batch\n",
        "        imgs = imgs.cuda()\n",
        "        lbls = lbls.cuda()\n",
        "        preds = cnn_model(imgs) # get preds\n",
        "        loss = multiple_choice_cross_entropy(preds, lbls) # compute loss\n",
        "        # loss = F.cross_entropy(preds, torch.tensor(lbls, dtype=torch.float))\n",
        "        optimizer.zero_grad() # zero grads\n",
        "        loss.backward() # calculates gradients\n",
        "        optimizer.step() # update the weights\n",
        "\n",
        "        total_loss += loss.item()\n",
        "        # total_correct += get_item(preds, lbls)\n",
        "        # accuracy = total_correct/len(train_set)\n",
        "    end_time = time.time() - start_time\n",
        "    # print(\"Epoch no.\",epoch+1 ,\"|accuracy: \", round(accuracy, 3)*100,\"%\", \"|total_loss: \", total_loss, \"| epoch_duration: \", round(end_time,2),\"sec\")\n",
        "    print(f\"Epoch no.{epoch+1}|total_loss: {total_loss}|epoch_duration: {round(end_time,2)}sec\")"
      ]
    },
    {
      "cell_type": "code",
      "execution_count": null,
      "metadata": {
        "id": "6G_H4zdzUl9Z"
      },
      "outputs": [],
      "source": [
        "# get all preds\n",
        "pred_data_loader = torch.utils.data.DataLoader(batch_size=10000, dataset=train_set, num_workers=1)\n",
        "all_preds= get_all_preds(network=cnn_model.cpu(), dataloader=pred_data_loader)"
      ]
    },
    {
      "cell_type": "code",
      "execution_count": null,
      "metadata": {
        "id": "oE6bOeKOTszf"
      },
      "outputs": [],
      "source": [
        "plot_confusion_matrix(cm=confusion_matrix(y_true=train_set.targets, y_pred=all_preds.argmax(1)), target_names=train_set.classes, normalize=False)\n"
      ]
    },
    {
      "cell_type": "code",
      "execution_count": null,
      "metadata": {
        "id": "DQ0ydW1WpabH"
      },
      "outputs": [],
      "source": []
    }
  ],
  "metadata": {
    "accelerator": "GPU",
    "colab": {
      "provenance": [],
      "authorship_tag": "ABX9TyP9Vc4QSQder7yMJoZpwlA4",
      "include_colab_link": true
    },
    "kernelspec": {
      "display_name": "Python 3",
      "name": "python3"
    },
    "language_info": {
      "name": "python"
    }
  },
  "nbformat": 4,
  "nbformat_minor": 0
}